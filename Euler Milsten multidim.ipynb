{
 "nbformat": 4,
 "nbformat_minor": 0,
 "metadata": {
  "colab": {
   "name": "Kopia Multidim SDEs Path dependent.ipynb",
   "provenance": [],
   "collapsed_sections": []
  },
  "kernelspec": {
   "name": "python3",
   "display_name": "Python 3"
  },
  "language_info": {
   "name": "python"
  }
 },
 "cells": [
  {
   "cell_type": "code",
   "execution_count": 11,
   "metadata": {
    "id": "i7FJoveq_Yvd"
   },
   "outputs": [],
   "source": [
    "import numpy as np\n",
    "import numba as nb\n",
    "import numba.cuda as cuda\n",
    "from numba.cuda.random import xoroshiro128p_normal_float32, create_xoroshiro128p_states\n",
    "\n",
    "from config import *"
   ]
  },
  {
   "cell_type": "code",
   "execution_count": 12,
   "outputs": [],
   "source": [
    "from importlib import reload"
   ],
   "metadata": {
    "collapsed": false,
    "pycharm": {
     "name": "#%%\n"
    }
   }
  },
  {
   "cell_type": "code",
   "execution_count": 13,
   "outputs": [],
   "source": [
    "import schema\n",
    "reload(schema)\n",
    "strong_euler_path = schema.strong_euler_path\n",
    "\n",
    "from user import a, b, exact\n",
    "from config import x_0, THREADS, BLOCKS, K"
   ],
   "metadata": {
    "collapsed": false,
    "pycharm": {
     "name": "#%%\n"
    }
   }
  },
  {
   "cell_type": "code",
   "execution_count": 14,
   "outputs": [],
   "source": [
    "@cuda.jit\n",
    "def caller(an_array, init_point, state):\n",
    "    # Thread id in a 1D block\n",
    "    tx = cuda.threadIdx.x\n",
    "    # Block id in a 1D grid\n",
    "    ty = cuda.blockIdx.x\n",
    "    # Block width, i.e. number of threads per block\n",
    "    bw = cuda.blockDim.x\n",
    "    # Compute flattened index inside the array\n",
    "    pos = tx + ty * bw\n",
    "    if pos < an_array.size:  # Check array boundaries\n",
    "        an_array[pos] = strong_euler_path(init_point, 0, 3, 100, a, b, exact, state)"
   ],
   "metadata": {
    "collapsed": false,
    "pycharm": {
     "name": "#%%\n"
    }
   }
  },
  {
   "cell_type": "code",
   "execution_count": 14,
   "outputs": [],
   "source": [],
   "metadata": {
    "collapsed": false,
    "pycharm": {
     "name": "#%%\n"
    }
   }
  },
  {
   "cell_type": "code",
   "execution_count": 15,
   "outputs": [
    {
     "name": "stderr",
     "output_type": "stream",
     "text": [
      "C:\\Users\\marcin\\PycharmProjects\\cuSDE\\venv\\lib\\site-packages\\numba\\cuda\\compiler.py:726: NumbaPerformanceWarning: \u001B[1mGrid size (2) < 2 * SM count (8) will likely result in GPU under utilization due to low occupancy.\u001B[0m\n",
      "  warn(NumbaPerformanceWarning(msg))\n"
     ]
    },
    {
     "data": {
      "text/plain": "array([0., 0., 0., 0., 0., 0., 0., 0., 0., 0., 0., 0., 0., 0., 0., 0.],\n      dtype=float32)"
     },
     "execution_count": 15,
     "metadata": {},
     "output_type": "execute_result"
    }
   ],
   "source": [
    "result = np.zeros(shape=(K,)).astype('float32')\n",
    "d_result = cuda.to_device(result)\n",
    "d_ary = cuda.to_device(x_0)\n",
    "rng_states = create_xoroshiro128p_states(THREADS * BLOCKS, seed=2)\n",
    "caller[BLOCKS, THREADS](d_result, d_ary, rng_states)\n",
    "d_result.copy_to_host(result)"
   ],
   "metadata": {
    "collapsed": false,
    "pycharm": {
     "name": "#%%\n"
    }
   }
  },
  {
   "cell_type": "code",
   "execution_count": 16,
   "outputs": [
    {
     "data": {
      "text/plain": "array([[0],\n       [0],\n       [0]])"
     },
     "execution_count": 16,
     "metadata": {},
     "output_type": "execute_result"
    }
   ],
   "source": [
    "res = d_ary.copy_to_host()\n",
    "res"
   ],
   "metadata": {
    "collapsed": false,
    "pycharm": {
     "name": "#%%\n"
    }
   }
  },
  {
   "cell_type": "code",
   "execution_count": 24,
   "outputs": [],
   "source": [
    "from numba.cuda.random import xoroshiro128p_normal_float32\n",
    "\n",
    "@cuda.jit(device=True)\n",
    "def gen(state):\n",
    "    thread_id = cuda.grid(1)\n",
    "    return xoroshiro128p_normal_float32(state, thread_id)\n",
    "\n",
    "@cuda.jit\n",
    "def tester(an_array, state):\n",
    "    # Thread id in a 1D block\n",
    "    tx = cuda.threadIdx.x\n",
    "    # Block id in a 1D grid\n",
    "    ty = cuda.blockIdx.x\n",
    "    # Block width, i.e. number of threads per block\n",
    "    bw = cuda.blockDim.x\n",
    "    # Compute flattened index inside the array\n",
    "    pos = tx + ty * bw\n",
    "\n",
    "    if pos < an_array.size:  # Check array boundaries\n",
    "        an_array[pos] = gen(state)"
   ],
   "metadata": {
    "collapsed": false,
    "pycharm": {
     "name": "#%%\n"
    }
   }
  },
  {
   "cell_type": "code",
   "execution_count": 26,
   "outputs": [
    {
     "name": "stderr",
     "output_type": "stream",
     "text": [
      "C:\\Users\\marcin\\PycharmProjects\\cuSDE\\venv\\lib\\site-packages\\numba\\cuda\\compiler.py:726: NumbaPerformanceWarning: \u001B[1mGrid size (2) < 2 * SM count (8) will likely result in GPU under utilization due to low occupancy.\u001B[0m\n",
      "  warn(NumbaPerformanceWarning(msg))\n"
     ]
    },
    {
     "data": {
      "text/plain": "array([-1.5159574 ,  0.08290885, -0.577169  ,  0.99387056,  1.8487535 ,\n       -0.5252328 , -0.7574524 , -0.9077959 ,  1.3674812 , -0.10852649,\n       -0.6516163 , -0.74630064, -0.11243716,  1.3418349 , -0.6088505 ,\n        0.10152206], dtype=float32)"
     },
     "execution_count": 26,
     "metadata": {},
     "output_type": "execute_result"
    }
   ],
   "source": [
    "result = np.zeros(shape=(K,)).astype('float32')\n",
    "d_result = cuda.to_device(result)\n",
    "d_ary = cuda.to_device(x_0)\n",
    "rng_states = create_xoroshiro128p_states(THREADS * BLOCKS, seed=2)\n",
    "tester[BLOCKS, THREADS](d_result, rng_states)\n",
    "d_result.copy_to_host(result)"
   ],
   "metadata": {
    "collapsed": false,
    "pycharm": {
     "name": "#%%\n"
    }
   }
  },
  {
   "cell_type": "code",
   "execution_count": null,
   "outputs": [],
   "source": [],
   "metadata": {
    "collapsed": false,
    "pycharm": {
     "name": "#%%\n"
    }
   }
  },
  {
   "cell_type": "code",
   "execution_count": null,
   "outputs": [],
   "source": [],
   "metadata": {
    "collapsed": false,
    "pycharm": {
     "name": "#%%\n"
    }
   }
  },
  {
   "cell_type": "code",
   "source": [
    "K  = 3 # liczba trajektori\n",
    "N  = 10 # \n",
    "d = 2 # wymiar X\n",
    "mW = 3 # Wymiar W\n",
    "mN = 1 # Wymiar N "
   ],
   "metadata": {
    "id": "qyFcSBV4_jzi"
   },
   "execution_count": 112,
   "outputs": []
  },
  {
   "cell_type": "code",
   "source": [
    "mi = np.array([0.5, 0.7])\n",
    "sigma = np.array([[0.5,   0.7,  0.2],\n",
    "                  [-0.5, -0.7, -0.2]])\n",
    "cc = np.array([[1.25],\n",
    "               [0.75]])"
   ],
   "metadata": {
    "id": "sJZn9mdkDeWg"
   },
   "execution_count": 3,
   "outputs": []
  },
  {
   "cell_type": "code",
   "execution_count": 130,
   "outputs": [
    {
     "data": {
      "text/plain": "array([[1., 1., 1.],\n       [1., 1., 1.]])"
     },
     "execution_count": 130,
     "metadata": {},
     "output_type": "execute_result"
    }
   ],
   "source": [
    "x = np.ones(6).reshape((2, 3))\n",
    "x"
   ],
   "metadata": {
    "collapsed": false,
    "pycharm": {
     "name": "#%%\n"
    }
   }
  },
  {
   "cell_type": "code",
   "execution_count": 131,
   "outputs": [
    {
     "data": {
      "text/plain": "array([[[ 0.5,  0.7,  0.2],\n        [-0.5, -0.7, -0.2]],\n\n       [[ 0.5,  0.7,  0.2],\n        [-0.5, -0.7, -0.2]]])"
     },
     "execution_count": 131,
     "metadata": {},
     "output_type": "execute_result"
    }
   ],
   "source": [
    "b(0, x)"
   ],
   "metadata": {
    "collapsed": false,
    "pycharm": {
     "name": "#%%\n"
    }
   }
  },
  {
   "cell_type": "code",
   "execution_count": 132,
   "outputs": [
    {
     "ename": "ValueError",
     "evalue": "cannot reshape array of size 4 into shape (2,3)",
     "output_type": "error",
     "traceback": [
      "\u001B[1;31m---------------------------------------------------------------------------\u001B[0m",
      "\u001B[1;31mValueError\u001B[0m                                Traceback (most recent call last)",
      "Input \u001B[1;32mIn [132]\u001B[0m, in \u001B[0;36m<cell line: 1>\u001B[1;34m()\u001B[0m\n\u001B[1;32m----> 1\u001B[0m \u001B[43mc\u001B[49m\u001B[43m(\u001B[49m\u001B[38;5;241;43m0\u001B[39;49m\u001B[43m,\u001B[49m\u001B[43m \u001B[49m\u001B[43mx\u001B[49m\u001B[43m)\u001B[49m\n",
      "Input \u001B[1;32mIn [127]\u001B[0m, in \u001B[0;36mc\u001B[1;34m(t, x)\u001B[0m\n\u001B[0;32m      3\u001B[0m \u001B[38;5;28;01mdef\u001B[39;00m \u001B[38;5;21mc\u001B[39m(t, x):\n\u001B[1;32m----> 4\u001B[0m     \u001B[38;5;28;01mreturn\u001B[39;00m  \u001B[43mnp\u001B[49m\u001B[38;5;241;43m.\u001B[39;49m\u001B[43mapply_along_axis\u001B[49m\u001B[43m(\u001B[49m\u001B[43mmy_c\u001B[49m\u001B[43m,\u001B[49m\u001B[43m \u001B[49m\u001B[38;5;241;43m1\u001B[39;49m\u001B[43m,\u001B[49m\u001B[43m \u001B[49m\u001B[43mx\u001B[49m\u001B[43m \u001B[49m\u001B[43m)\u001B[49m\u001B[38;5;241;43m.\u001B[39;49m\u001B[43mreshape\u001B[49m\u001B[43m(\u001B[49m\u001B[43mx\u001B[49m\u001B[38;5;241;43m.\u001B[39;49m\u001B[43mshape\u001B[49m\u001B[43m[\u001B[49m\u001B[38;5;241;43m0\u001B[39;49m\u001B[43m]\u001B[49m\u001B[43m,\u001B[49m\u001B[43mx\u001B[49m\u001B[38;5;241;43m.\u001B[39;49m\u001B[43mshape\u001B[49m\u001B[43m[\u001B[49m\u001B[38;5;241;43m1\u001B[39;49m\u001B[43m]\u001B[49m\u001B[43m)\u001B[49m\n",
      "\u001B[1;31mValueError\u001B[0m: cannot reshape array of size 4 into shape (2,3)"
     ]
    }
   ],
   "source": [
    "c(0, x)"
   ],
   "metadata": {
    "collapsed": false,
    "pycharm": {
     "name": "#%%\n"
    }
   }
  },
  {
   "cell_type": "code",
   "source": [
    "# dryft\n",
    "def a(t, x):\n",
    "    return mi * x"
   ],
   "metadata": {
    "id": "UzpYPQl-Dafu"
   },
   "execution_count": 117,
   "outputs": []
  },
  {
   "cell_type": "code",
   "source": [
    "# dyfuzja\n",
    "def my_b(x):\n",
    "    return  np.array([sigma[i] * x[i]\n",
    "                      for i in range(d)])\n",
    "def b(t, x):\n",
    "    return  np.apply_along_axis(my_b, 1, x )"
   ],
   "metadata": {
    "id": "ARDt9ic0D32X"
   },
   "execution_count": 118,
   "outputs": []
  },
  {
   "cell_type": "code",
   "source": [
    "# to tylko dla rownania B-S-M\n",
    "def b_(t, x, j):\n",
    "    d_ = sigma.shape[0]\n",
    "    mw_ = sigma.shape[1]\n",
    "    def my_b_(x):\n",
    "        return  np.diagflat(np.array([sigma[i] for i in range(d_)])[:,j])\n",
    "    return  np.apply_along_axis(my_b_, 1, x )"
   ],
   "metadata": {
    "id": "ocSPISIqV4_0"
   },
   "execution_count": 126,
   "outputs": []
  },
  {
   "cell_type": "code",
   "source": [
    "def my_c(x):\n",
    "    return  np.array([cc[i]*x[i] for i in range(d)])\n",
    "def c(t, x):\n",
    "    return  np.apply_along_axis(my_c, 1, x ).reshape(x.shape[0],x.shape[1])"
   ],
   "metadata": {
    "id": "KgI2_wnBN_HO"
   },
   "execution_count": 127,
   "outputs": []
  },
  {
   "cell_type": "code",
   "source": [
    "def my_c_(t,x,j):\n",
    "  d_ = cc.shape[0]\n",
    "  mn_ = cc.shape[1]\n",
    "  def my_c_(x):\n",
    "    return  np.diagflat(np.array([cc[i] for i in range(d_)])[:,j])\n",
    "  return  np.apply_along_axis(my_c_, 1, x )"
   ],
   "metadata": {
    "id": "hOMyG51_WOX9"
   },
   "execution_count": null,
   "outputs": []
  },
  {
   "cell_type": "code",
   "source": [
    "def L_1b(t,x):\n",
    "  return b(t,x+c(t,x)) - b(t,x)"
   ],
   "metadata": {
    "id": "vS83kTW2Wiii"
   },
   "execution_count": null,
   "outputs": []
  },
  {
   "cell_type": "code",
   "source": [
    "def L_1c(t,x):\n",
    "  return c(t,x+c(t,x)) - c(t,x)"
   ],
   "metadata": {
    "id": "pCfITnR5W66Q"
   },
   "execution_count": null,
   "outputs": []
  },
  {
   "cell_type": "code",
   "source": [
    "def my_vect_mul_vect(x,y):\n",
    "  return  np.array([x[i]*y[i] for i in range(x.shape[0])])\n",
    "\n",
    "def my_vect_mul(x,y):\n",
    "  return  np.array([np.matmul(x[i],y[i]) for i in range(x.shape[0])])\n",
    "\n",
    "def my_vect_norm(x):\n",
    "  return  np.array([np.linalg.norm(x[i]) for i in range(x.shape[0])])\n",
    "\n",
    "#np.apply_along_axis(my_vect_mul, -1, B )\n",
    "\n"
   ],
   "metadata": {
    "id": "50JCF6mcLN96"
   },
   "execution_count": null,
   "outputs": []
  },
  {
   "cell_type": "code",
   "source": [
    "def exact(x_0, t, W, N):\n",
    "  x = np.copy(x_0)\n",
    "\n",
    "  x = x * np.exp((a(t,x*0+1) - (np.power(b(t,x*0+1),2)).sum(axis=2)/2) *t + my_vect_mul(b(t,x*0+1),W))*np.power((1+c(t,x*0+1)),N)\n",
    "  return x\n"
   ],
   "metadata": {
    "id": "LNwMHEFDF8xv"
   },
   "execution_count": null,
   "outputs": []
  },
  {
   "cell_type": "code",
   "source": [
    "1+cc"
   ],
   "metadata": {
    "colab": {
     "base_uri": "https://localhost:8080/"
    },
    "id": "eBphwfIWIYQi",
    "outputId": "f259783c-83b1-4579-9f6c-54eb09915d06"
   },
   "execution_count": null,
   "outputs": [
    {
     "output_type": "execute_result",
     "data": {
      "text/plain": [
       "array([[2.25],\n",
       "       [1.75]])"
      ]
     },
     "metadata": {},
     "execution_count": 159
    }
   ]
  },
  {
   "cell_type": "code",
   "source": [
    "x0 = [1,2]"
   ],
   "metadata": {
    "id": "GZkG0X_cDOfy"
   },
   "execution_count": null,
   "outputs": []
  },
  {
   "cell_type": "code",
   "source": [
    "x0 = np.array([x0 for i in range(K)])"
   ],
   "metadata": {
    "id": "e8UiY4B2Chmd"
   },
   "execution_count": null,
   "outputs": []
  },
  {
   "cell_type": "code",
   "source": [
    "x0"
   ],
   "metadata": {
    "colab": {
     "base_uri": "https://localhost:8080/"
    },
    "id": "C6_Xa2s8HyXO",
    "outputId": "e6fe5688-46ee-4ab4-c34f-e7fba4e501c7"
   },
   "execution_count": null,
   "outputs": [
    {
     "output_type": "execute_result",
     "data": {
      "text/plain": [
       "array([[1, 2],\n",
       "       [1, 2],\n",
       "       [1, 2]])"
      ]
     },
     "metadata": {},
     "execution_count": 162
    }
   ]
  },
  {
   "cell_type": "code",
   "source": [
    "dt = 0.00001\n",
    "dW = np.array([[0.4,0.6,-0.3],[0.4,0.6,-0.3],[0.4,0.6,-0.3]])\n",
    "dN = np.array([[2],[1],[3]])\n",
    "dW = np.sqrt(dt) * np.random.randn(K,mW)\n",
    "dN = np.random.poisson(dt, (K,mN))"
   ],
   "metadata": {
    "id": "fPrRjT9hq-1o"
   },
   "execution_count": null,
   "outputs": []
  },
  {
   "cell_type": "code",
   "source": [
    "euler_value = x0 + a(0,x0)*dt + my_vect_mul(b(0,x0),dW) + my_vect_mul_vect(c(0,x0),dN)"
   ],
   "metadata": {
    "id": "iIB7NTUkJqPW"
   },
   "execution_count": null,
   "outputs": []
  },
  {
   "cell_type": "code",
   "source": [
    "exac_value = exact(x0,dt,dW,dN)"
   ],
   "metadata": {
    "id": "dieweppVHcBM"
   },
   "execution_count": null,
   "outputs": []
  },
  {
   "cell_type": "code",
   "source": [
    "exac_value = exact(x0,dt,dW,dN)\n",
    "np.power(euler_value - exac_value,2).sum(axis=1).mean()"
   ],
   "metadata": {
    "colab": {
     "base_uri": "https://localhost:8080/"
    },
    "id": "14V7KkoJKaob",
    "outputId": "aee6bea7-5bcc-4c45-e02b-1ba2c0dfd85b"
   },
   "execution_count": null,
   "outputs": [
    {
     "output_type": "execute_result",
     "data": {
      "text/plain": [
       "5.3071280813919614e-11"
      ]
     },
     "metadata": {},
     "execution_count": 188
    }
   ]
  },
  {
   "cell_type": "code",
   "source": [
    "j1=1\n",
    "j2=0\n",
    "my_vect_mul(b_(0,x0,j1), b(0,x0)[:,:,j2])"
   ],
   "metadata": {
    "colab": {
     "base_uri": "https://localhost:8080/"
    },
    "id": "rvbqT9QwMsqb",
    "outputId": "e80298e6-6d4b-45ae-812b-76f33bee26d5"
   },
   "execution_count": null,
   "outputs": [
    {
     "output_type": "execute_result",
     "data": {
      "text/plain": [
       "array([[0.35, 0.7 ],\n",
       "       [0.35, 0.7 ],\n",
       "       [0.35, 0.7 ]])"
      ]
     },
     "metadata": {},
     "execution_count": 189
    }
   ]
  },
  {
   "cell_type": "code",
   "source": [
    "my_vect_mul(b_(1,x0,1), b(1,x0)[:,:,2])"
   ],
   "metadata": {
    "colab": {
     "base_uri": "https://localhost:8080/"
    },
    "id": "8v4_DzsN4hMh",
    "outputId": "2a0c0435-1751-4ab9-e91a-bee70eb2f905"
   },
   "execution_count": null,
   "outputs": [
    {
     "output_type": "execute_result",
     "data": {
      "text/plain": [
       "array([[0.14, 0.28],\n",
       "       [0.14, 0.28],\n",
       "       [0.14, 0.28]])"
      ]
     },
     "metadata": {},
     "execution_count": 190
    }
   ]
  },
  {
   "cell_type": "code",
   "source": [
    "def euler(x,A,B,C,dt,dW,dN):\n",
    "    return x + A * dt + my_vect_mul(B,dW) + my_vect_mul_vect(C,dN)"
   ],
   "metadata": {
    "id": "ZxKJlks7NiLK"
   },
   "execution_count": null,
   "outputs": []
  },
  {
   "cell_type": "code",
   "source": [
    "def milstein(t,x,A,B,C,dt,dW,dN):\n",
    "    temp = x + A * dt + my_vect_mul(B,dW) + my_vect_mul_vect(C,dN)\n",
    "    for j1 in range(mW):\n",
    "        for j2 in range(mW):\n",
    "            if j1==j2:\n",
    "                I = dW[:,j1]**2 - dt\n",
    "            else:\n",
    "                I = dW[:,j1]*dW[:,j2]\n",
    "            temp += my_vect_mul_vect(my_vect_mul(b_(t,x,j1), B[:,:,j2]) ,  I / 2 )\n",
    "    #print(dW*dN)\n",
    "    temp += my_vect_mul(L_1b(t,x),dW * dN)\n",
    "    #print(dN*(dN-1))\n",
    "    temp += my_vect_mul_vect(L_1c(t,x),dN*(dN-1))\n",
    "    return temp"
   ],
   "metadata": {
    "id": "DzBC9ae4XDGM"
   },
   "execution_count": null,
   "outputs": []
  },
  {
   "cell_type": "code",
   "source": [
    "import tqdm as tqdm"
   ],
   "metadata": {
    "id": "geCj38UoRHIn"
   },
   "execution_count": null,
   "outputs": []
  },
  {
   "cell_type": "code",
   "source": [
    "def gen_traj_eq(x0,T,n,K):\n",
    "      x = np.array([x0 for i in range(K)])\n",
    "      x2 = np.array([x0 for i in range(K)])\n",
    "      x_exact = np.array([x0 for i in range(K)])\n",
    "      x0 =np.array([x0 for i in range(K)])\n",
    "      traj = np.array([x])\n",
    "      traj2 = np.array([x2])\n",
    "      time = np.array([0])\n",
    "      W = np.zeros((K,mW))\n",
    "      N = np.zeros((K,mN))\n",
    "      step = T/n\n",
    "      t = 0\n",
    "      t += step\n",
    "      with tqdm.tqdm(total=T) as pbar:\n",
    "            while t <= T:\n",
    "\n",
    "                  dW = np.sqrt(step) * np.random.randn(K,mW)\n",
    "                  dN = np.random.poisson(step, (K,mN))\n",
    "                  W+=dW\n",
    "                  N+=dN\n",
    "                  x = euler(x,a(t,x),b(t,x),c(t,x),step,dW,dN)\n",
    "                  traj = np.append(traj,[x])\n",
    "                  x2 = milstein(t,x2,a(t,x2),b(t,x2),c(t,x2),step,dW,dN)\n",
    "                  traj2 = np.append(traj2,[x2])\n",
    "                  time = np.append(time,[t])\n",
    "\n",
    "                  x_exact = np.append(x_exact,exact(x0,t,W,N))\n",
    "                  pbar.update(step)\n",
    "                  t += step\n",
    "      return time, traj, traj2, x_exact\n"
   ],
   "metadata": {
    "id": "oESnH4LUH4HT"
   },
   "execution_count": null,
   "outputs": []
  },
  {
   "cell_type": "code",
   "source": [
    ""
   ],
   "metadata": {
    "id": "a3wMmyppSAun"
   },
   "execution_count": null,
   "outputs": []
  },
  {
   "cell_type": "code",
   "source": [
    "K = 20000\n",
    "N=100"
   ],
   "metadata": {
    "id": "jaDEds4SXLFr"
   },
   "execution_count": null,
   "outputs": []
  },
  {
   "cell_type": "code",
   "source": [
    ""
   ],
   "metadata": {
    "colab": {
     "base_uri": "https://localhost:8080/"
    },
    "id": "OtOzli7QSHsa",
    "outputId": "bafd0d89-c35c-494b-954b-944edd1a2696"
   },
   "execution_count": null,
   "outputs": [
    {
     "output_type": "stream",
     "name": "stderr",
     "text": [
      " 97%|█████████▋| 0.970858266775844/1 [05:38<00:10, 348.20s/it]\n"
     ]
    }
   ]
  },
  {
   "cell_type": "code",
   "source": [
    "t,E,M,EV = gen_traj_eq([1,2], 1, N, K )"
   ],
   "metadata": {
    "colab": {
     "base_uri": "https://localhost:8080/"
    },
    "id": "qlC5CmNPKzCM",
    "outputId": "3d007579-9221-4dac-f0fd-0163f8dc6815"
   },
   "execution_count": null,
   "outputs": [
    {
     "output_type": "stream",
     "name": "stderr",
     "text": [
      " 98%|█████████▊| 0.9821428571428582/1 [04:54<00:05, 300.24s/it]\n"
     ]
    }
   ]
  },
  {
   "cell_type": "code",
   "source": [
    "t"
   ],
   "metadata": {
    "colab": {
     "base_uri": "https://localhost:8080/"
    },
    "id": "dk8NDUK7WQ3Y",
    "outputId": "feb180a0-209e-446f-d037-9617446428ed"
   },
   "execution_count": null,
   "outputs": [
    {
     "output_type": "execute_result",
     "data": {
      "text/plain": [
       "array([0.        , 0.01785714, 0.03571429, 0.05357143, 0.07142857,\n",
       "       0.08928571, 0.10714286, 0.125     , 0.14285714, 0.16071429,\n",
       "       0.17857143, 0.19642857, 0.21428571, 0.23214286, 0.25      ,\n",
       "       0.26785714, 0.28571429, 0.30357143, 0.32142857, 0.33928571,\n",
       "       0.35714286, 0.375     , 0.39285714, 0.41071429, 0.42857143,\n",
       "       0.44642857, 0.46428571, 0.48214286, 0.5       , 0.51785714,\n",
       "       0.53571429, 0.55357143, 0.57142857, 0.58928571, 0.60714286,\n",
       "       0.625     , 0.64285714, 0.66071429, 0.67857143, 0.69642857,\n",
       "       0.71428571, 0.73214286, 0.75      , 0.76785714, 0.78571429,\n",
       "       0.80357143, 0.82142857, 0.83928571, 0.85714286, 0.875     ,\n",
       "       0.89285714, 0.91071429, 0.92857143, 0.94642857, 0.96428571,\n",
       "       0.98214286])"
      ]
     },
     "metadata": {},
     "execution_count": 313
    }
   ]
  },
  {
   "cell_type": "code",
   "source": [
    "import matplotlib.pyplot as plt"
   ],
   "metadata": {
    "id": "SER_cD2YUbQb"
   },
   "execution_count": null,
   "outputs": []
  },
  {
   "cell_type": "code",
   "source": [
    "plt.plot(np.diff(t))"
   ],
   "metadata": {
    "colab": {
     "base_uri": "https://localhost:8080/",
     "height": 282
    },
    "id": "H2pztZKEkTsa",
    "outputId": "4f07ca15-13a0-49be-d134-1472f4071c89"
   },
   "execution_count": null,
   "outputs": [
    {
     "output_type": "execute_result",
     "data": {
      "text/plain": [
       "[<matplotlib.lines.Line2D at 0x7fc07a72ed90>]"
      ]
     },
     "metadata": {},
     "execution_count": 326
    },
    {
     "output_type": "display_data",
     "data": {
      "text/plain": [
       "<Figure size 432x288 with 1 Axes>"
      ],
      "image/png": "[encoded data removed]"
     },
     "metadata": {
      "needs_background": "light"
     }
    }
   ]
  },
  {
   "cell_type": "code",
   "source": [
    "E = E.reshape(t.shape[0],2,K)\n",
    "M = M.reshape(t.shape[0],2,K)\n",
    "EV = EV.reshape(t.shape[0],2,K)"
   ],
   "metadata": {
    "id": "_jVQ1B6PSeUx"
   },
   "execution_count": null,
   "outputs": []
  },
  {
   "cell_type": "code",
   "source": [
    ""
   ],
   "metadata": {
    "id": "sMrj0GHliJWE"
   },
   "execution_count": null,
   "outputs": []
  },
  {
   "cell_type": "code",
   "source": [
    "for i in [7]:\n",
    "  print(i)\n",
    "  plt.plot(E[:,0,i],E[:,1,i], alpha=0.5)\n",
    "  plt.plot(M[:,0,i],M[:,1,i], alpha=0.5)\n",
    "  plt.plot(EV[:,0,i],EV[:,1,i], alpha=0.5)\n",
    "plt.show()"
   ],
   "metadata": {
    "colab": {
     "base_uri": "https://localhost:8080/",
     "height": 282
    },
    "id": "ARfm2q3rUmBB",
    "outputId": "7f3116d5-c240-414c-c5c0-fc1ef82640fe"
   },
   "execution_count": null,
   "outputs": [
    {
     "output_type": "stream",
     "name": "stdout",
     "text": [
      "7\n"
     ]
    },
    {
     "output_type": "display_data",
     "data": {
      "text/plain": [
       "<Figure size 432x288 with 1 Axes>"
      ],
      "image/png": "[encoded data removed]"
     },
     "metadata": {
      "needs_background": "light"
     }
    }
   ]
  },
  {
   "cell_type": "code",
   "source": [
    "((np.power(M - EV,2).sum(axis=1))/t.shape[0]).sum(axis=0).mean()"
   ],
   "metadata": {
    "colab": {
     "base_uri": "https://localhost:8080/"
    },
    "id": "d127kMSmPtva",
    "outputId": "1f687018-27e4-4cac-9c8c-ab109ad5c480"
   },
   "execution_count": null,
   "outputs": [
    {
     "output_type": "execute_result",
     "data": {
      "text/plain": [
       "0.5719086367477039"
      ]
     },
     "metadata": {},
     "execution_count": 320
    }
   ]
  },
  {
   "cell_type": "code",
   "source": [
    "for i in range(1,10):\n",
    "  N = 2**i\n",
    "  t,E,M,EV = gen_traj_eq([1,2], 1, N, K )\n",
    "  E = E.reshape(t.shape[0],2,K)\n",
    "  M = M.reshape(t.shape[0],2,K)\n",
    "  EV = EV.reshape(t.shape[0],2,K)\n",
    "  error_eq = ((np.power(M - EV,2).sum(axis=1))/t.shape[0]).sum(axis=0).mean()\n",
    "  print(N, t.shape[0], error_eq, )\n"
   ],
   "metadata": {
    "colab": {
     "base_uri": "https://localhost:8080/"
    },
    "id": "getgxHmNfRP6",
    "outputId": "b7f1c2ed-0c8a-41de-f88a-3b587dc679fa"
   },
   "execution_count": null,
   "outputs": [
    {
     "output_type": "stream",
     "name": "stderr",
     "text": [
      " 34%|███▍      | 0.34121277588194926/1 [00:11<00:21, 32.93s/it]\n",
      "100%|██████████| 1.0/1 [00:10<00:00, 10.88s/it]\n"
     ]
    },
    {
     "output_type": "stream",
     "name": "stdout",
     "text": [
      "2 3 36.02591564317846 2.7243409068592337 0.07562169783115812\n"
     ]
    },
    {
     "output_type": "stream",
     "name": "stderr",
     "text": [
      " 59%|█████▉    | 0.5919286164542028/1 [00:23<00:15, 39.03s/it]\n",
      "100%|██████████| 1.0/1 [00:21<00:00, 21.70s/it]\n"
     ]
    },
    {
     "output_type": "stream",
     "name": "stdout",
     "text": [
      "4 5 8.789447177439778 0.5352379701890708 0.06089552157078631\n"
     ]
    },
    {
     "output_type": "stream",
     "name": "stderr",
     "text": [
      " 81%|████████  | 0.8055997447281155/1 [00:53<00:12, 66.64s/it]\n",
      " 89%|████████▉ | 0.8888888888888891/1 [00:43<00:05, 48.51s/it]\n"
     ]
    },
    {
     "output_type": "stream",
     "name": "stdout",
     "text": [
      "8 9 4.937674085418204 0.2669331161918089 0.05406049722481846\n"
     ]
    },
    {
     "output_type": "stream",
     "name": "stderr",
     "text": [
      " 91%|█████████▏| 0.913798092196262/1 [01:50<00:10, 121.40s/it]\n",
      "100%|█████████▉| 0.9999999999999996/1 [01:41<00:00, 101.99s/it]\n"
     ]
    },
    {
     "output_type": "stream",
     "name": "stdout",
     "text": [
      "16 20 1.354028379776877 0.6723748903845289 0.49657370585934535\n"
     ]
    },
    {
     "output_type": "stream",
     "name": "stderr",
     "text": [
      " 96%|█████████▌| 0.9564722842971863/1 [03:45<00:10, 235.89s/it]\n",
      "100%|█████████▉| 0.9999999999999992/1 [03:27<00:00, 207.34s/it]\n"
     ]
    },
    {
     "output_type": "stream",
     "name": "stdout",
     "text": [
      "32 39 1.024657212290608 0.03585274206739868 0.03498998654120663\n"
     ]
    },
    {
     "output_type": "stream",
     "name": "stderr",
     "text": [
      " 98%|█████████▊| 0.9756655442721697/1 [07:27<00:11, 458.38s/it]\n",
      " 99%|█████████▊| 0.986842105263159/1 [06:44<00:05, 409.56s/it]\n"
     ]
    },
    {
     "output_type": "stream",
     "name": "stdout",
     "text": [
      "64 76 0.4302618364132009 0.016579604313455624 0.038533755286475\n"
     ]
    },
    {
     "output_type": "stream",
     "name": "stderr",
     "text": [
      " 99%|█████████▊| 0.987153916496638/1 [14:52<00:11, 904.15s/it] \n",
      "100%|█████████▉| 0.9999999999999979/1 [13:33<00:00, 813.31s/it]\n"
     ]
    },
    {
     "output_type": "stream",
     "name": "stdout",
     "text": [
      "128 153 0.0849978534604841 0.005533166456973854 0.0650977199035532\n"
     ]
    },
    {
     "output_type": "stream",
     "name": "stderr",
     "text": [
      " 99%|█████████▉| 0.9947086695696721/1 [29:55<00:09, 1805.26s/it]\n",
      "100%|█████████▉| 0.9999999999999963/1 [27:19<00:00, 1639.58s/it]\n"
     ]
    },
    {
     "output_type": "stream",
     "name": "stdout",
     "text": [
      "256 305 0.8074748445322719 0.0009068381295879731 0.0011230543412324592\n"
     ]
    },
    {
     "output_type": "stream",
     "name": "stderr",
     "text": [
      "100%|█████████▉| 0.9968457898498717/1 [1:00:29<00:11, 3641.16s/it]\n",
      "100%|█████████▉| 0.9983713355048863/1 [55:49<00:05, 3355.17s/it]\n"
     ]
    },
    {
     "output_type": "stream",
     "name": "stdout",
     "text": [
      "512 614 0.050574303667039334 0.007667395408905754 0.15160654429144038\n"
     ]
    }
   ]
  }
 ]
}