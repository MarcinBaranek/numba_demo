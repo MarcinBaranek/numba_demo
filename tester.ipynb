{
 "cells": [
  {
   "cell_type": "code",
   "execution_count": 1,
   "metadata": {
    "collapsed": true
   },
   "outputs": [],
   "source": [
    "import numpy as np\n",
    "import numba as nb\n",
    "import numba.cuda as cuda\n",
    "from numba import guvectorize, vectorize\n",
    "from numba.cuda.random import xoroshiro128p_normal_float32, create_xoroshiro128p_states\n",
    "\n",
    "# from user import BLOCKS, DIM, THREADS\n",
    "from config import D, M\n",
    "\n",
    "from user import a, b"
   ]
  },
  {
   "cell_type": "code",
   "execution_count": 2,
   "outputs": [],
   "source": [
    "from core import multiply_matrix_by_scalar, add_inplace, multiply_matrix,\\\n",
    "    gen_normal_float32\n",
    "from config import D, M"
   ],
   "metadata": {
    "collapsed": false,
    "pycharm": {
     "name": "#%%\n"
    }
   }
  },
  {
   "cell_type": "code",
   "execution_count": 46,
   "outputs": [],
   "source": [
    "@cuda.jit(device=True)\n",
    "def euler_step(point, time, dt, a_func, b_func, state):\n",
    "    temp_dt = cuda.local.array(shape=(D, 1), dtype=point.dtype)\n",
    "    temp_dw = cuda.local.array(shape=(D, M), dtype=point.dtype)\n",
    "    dw = cuda.local.array(shape=(M, 1), dtype=point.dtype)\n",
    "    a_func(time, point, temp_dt)  # save result in temp\n",
    "    multiply_matrix_by_scalar(temp_dt, dt)\n",
    "    b_func(time, point, temp_dw)\n",
    "    add_inplace(point, temp_dt)\n",
    "    gen_normal_float32(dw, state)\n",
    "    multiply_matrix_by_scalar(dw, dt)\n",
    "    multiply_matrix(temp_dw, dw, temp_dt)\n",
    "    add_inplace(point, temp_dt)"
   ],
   "metadata": {
    "collapsed": false,
    "pycharm": {
     "name": "#%%\n"
    }
   }
  },
  {
   "cell_type": "code",
   "execution_count": 47,
   "outputs": [],
   "source": [
    "@cuda.jit(device=True)\n",
    "def b(t, x, result):\n",
    "    for i in range(D):\n",
    "        for j in range(M):\n",
    "            result[i, j] = 5"
   ],
   "metadata": {
    "collapsed": false,
    "pycharm": {
     "name": "#%%\n"
    }
   }
  },
  {
   "cell_type": "code",
   "execution_count": 48,
   "outputs": [],
   "source": [
    "@cuda.jit\n",
    "def kernel(vector, state):\n",
    "    euler_step(vector, 3, 1.e-4, a, b, state)"
   ],
   "metadata": {
    "collapsed": false,
    "pycharm": {
     "name": "#%%\n"
    }
   }
  },
  {
   "cell_type": "code",
   "execution_count": 49,
   "outputs": [],
   "source": [
    "THREADS, BLOCKS = 1, 1"
   ],
   "metadata": {
    "collapsed": false,
    "pycharm": {
     "name": "#%%\n"
    }
   }
  },
  {
   "cell_type": "code",
   "execution_count": 50,
   "outputs": [
    {
     "name": "stderr",
     "output_type": "stream",
     "text": [
      "C:\\Users\\marcin\\PycharmProjects\\cuSDE\\venv\\lib\\site-packages\\numba\\cuda\\compiler.py:726: NumbaPerformanceWarning: \u001B[1mGrid size (1) < 2 * SM count (8) will likely result in GPU under utilization due to low occupancy.\u001B[0m\n",
      "  warn(NumbaPerformanceWarning(msg))\n"
     ]
    },
    {
     "data": {
      "text/plain": "array([[1.9992927],\n       [1.9992927],\n       [1.9992927]], dtype=float32)"
     },
     "execution_count": 50,
     "metadata": {},
     "output_type": "execute_result"
    }
   ],
   "source": [
    "point = 2 * np.ones(shape=(D, 1)).astype('float32')\n",
    "\n",
    "d_point = cuda.to_device(point)\n",
    "rng_state = create_xoroshiro128p_states(THREADS * BLOCKS, seed=2)\n",
    "\n",
    "kernel[THREADS, BLOCKS](d_point, rng_state)\n",
    "\n",
    "d_point.copy_to_host(point)"
   ],
   "metadata": {
    "collapsed": false,
    "pycharm": {
     "name": "#%%\n"
    }
   }
  },
  {
   "cell_type": "code",
   "execution_count": 7,
   "outputs": [
    {
     "data": {
      "text/plain": "array([[1.],\n       [1.],\n       [1.]], dtype=float32)"
     },
     "execution_count": 7,
     "metadata": {},
     "output_type": "execute_result"
    }
   ],
   "source": [
    "point"
   ],
   "metadata": {
    "collapsed": false,
    "pycharm": {
     "name": "#%%\n"
    }
   }
  },
  {
   "cell_type": "code",
   "execution_count": null,
   "outputs": [],
   "source": [],
   "metadata": {
    "collapsed": false,
    "pycharm": {
     "name": "#%%\n"
    }
   }
  },
  {
   "cell_type": "code",
   "execution_count": null,
   "outputs": [],
   "source": [
    "d_start = np.ones(shape=(2, 4)).astype('float32')\n",
    "result = np.zeros_like(d_start)\n",
    "d_result = cuda.to_device(result)\n",
    "d_ary = cuda.to_device(d_start)\n",
    "rng_states = create_xoroshiro128p_states(THREADS * BLOCKS, seed=2)\n",
    "caller[1, 1](d_ary, d_result)\n",
    "d_result.copy_to_host(result)"
   ],
   "metadata": {
    "collapsed": false,
    "pycharm": {
     "name": "#%%\n"
    }
   }
  }
 ],
 "metadata": {
  "kernelspec": {
   "display_name": "Python 3",
   "language": "python",
   "name": "python3"
  },
  "language_info": {
   "codemirror_mode": {
    "name": "ipython",
    "version": 2
   },
   "file_extension": ".py",
   "mimetype": "text/x-python",
   "name": "python",
   "nbconvert_exporter": "python",
   "pygments_lexer": "ipython2",
   "version": "2.7.6"
  }
 },
 "nbformat": 4,
 "nbformat_minor": 0
}